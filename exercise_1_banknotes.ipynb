{
 "cells": [
  {
   "cell_type": "markdown",
   "id": "29dc571a-e16a-47fa-b456-c4d9367b87a5",
   "metadata": {},
   "source": [
    "# Unit 3, Exercise 1: Banknote Authentication"
   ]
  },
  {
   "cell_type": "markdown",
   "id": "48f20142-5f08-4b33-a4e5-ec1315c5a8ff",
   "metadata": {},
   "source": [
    "In this exercise, we are applying logistic regression to a banknote authentication dataset to distinguish between genuine and forged bank notes.\n",
    "\n",
    "\n",
    "**The dataset consists of 1372 examples and 4 features for binary classification.** The features are \n",
    "\n",
    "1. variance of a wavelet-transformed image (continuous) \n",
    "2. skewness of a wavelet-transformed image (continuous) \n",
    "3. kurtosis of a wavelet-transformed image (continuous) \n",
    "4. entropy of the image (continuous) \n",
    "\n",
    "(You can fine more details about this dataset at [https://archive.ics.uci.edu/ml/datasets/banknote+authentication](https://archive.ics.uci.edu/ml/datasets/banknote+authentication).)\n",
    "\n",
    "\n",
    "In essence, these four features represent features that were manually extracted from image data. Note that you do not need the details of these features for this exercise. \n",
    "\n",
    "However, you are encouraged to explore the dataset further, e.g., by plotting the features, looking at the value ranges, and so forth. (We will skip these steps for brevity in this exercise)\n",
    "\n",
    "Most of the code should look familiar to you since it is based on the logistic regression code from Unit 3.6."
   ]
  },
  {
   "cell_type": "markdown",
   "id": "5649ce4a-7db3-4716-9fd1-d2db9af5f834",
   "metadata": {},
   "source": [
    "## 1) Installing Libraries"
   ]
  },
  {
   "cell_type": "markdown",
   "id": "3ea64205-ec41-42db-8167-cd547453354f",
   "metadata": {},
   "source": [
    "You likely already have all libraries installed and don't need to do anything here."
   ]
  },
  {
   "cell_type": "code",
   "execution_count": null,
   "id": "ac7e723b-08af-4274-8925-bda4ef60f91a",
   "metadata": {},
   "outputs": [],
   "source": [
    "# !conda install numpy pandas matplotlib --yes"
   ]
  },
  {
   "cell_type": "code",
   "execution_count": null,
   "id": "ee966b7b-27cb-4484-b256-8d79f55dc48a",
   "metadata": {},
   "outputs": [],
   "source": [
    "# !pip install torch"
   ]
  },
  {
   "cell_type": "code",
   "execution_count": null,
   "id": "1d5d7bb5-c818-4d8c-b6ce-9c6d8fb4ebdf",
   "metadata": {},
   "outputs": [],
   "source": [
    "# !conda install watermark"
   ]
  },
  {
   "cell_type": "code",
   "execution_count": null,
   "id": "3822a1f2-6b48-4826-9bf4-adbe06c65a37",
   "metadata": {},
   "outputs": [],
   "source": [
    "%load_ext watermark\n",
    "%watermark -v -p numpy,pandas,matplotlib,torch"
   ]
  },
  {
   "cell_type": "markdown",
   "id": "157c6970-2b47-49a1-ba50-59bf738526ce",
   "metadata": {
    "tags": []
   },
   "source": [
    "## 2) Loading the Dataset"
   ]
  },
  {
   "cell_type": "markdown",
   "id": "6638725c-02ee-44db-b661-d882dd191185",
   "metadata": {},
   "source": [
    "We are using the familiar `read_csv` function from pandas to load the dataset:"
   ]
  },
  {
   "cell_type": "code",
   "execution_count": 1,
   "id": "ab70cfad-f8bb-4076-b22e-dffa4f8a48fa",
   "metadata": {
    "tags": []
   },
   "outputs": [],
   "source": [
    "import pandas as pd"
   ]
  },
  {
   "cell_type": "code",
   "execution_count": 2,
   "id": "bb8965ae-5222-4541-a7c6-7a9aaa4d1033",
   "metadata": {
    "tags": []
   },
   "outputs": [
    {
     "data": {
      "text/html": [
       "<div>\n",
       "<style scoped>\n",
       "    .dataframe tbody tr th:only-of-type {\n",
       "        vertical-align: middle;\n",
       "    }\n",
       "\n",
       "    .dataframe tbody tr th {\n",
       "        vertical-align: top;\n",
       "    }\n",
       "\n",
       "    .dataframe thead th {\n",
       "        text-align: right;\n",
       "    }\n",
       "</style>\n",
       "<table border=\"1\" class=\"dataframe\">\n",
       "  <thead>\n",
       "    <tr style=\"text-align: right;\">\n",
       "      <th></th>\n",
       "      <th>0</th>\n",
       "      <th>1</th>\n",
       "      <th>2</th>\n",
       "      <th>3</th>\n",
       "      <th>4</th>\n",
       "    </tr>\n",
       "  </thead>\n",
       "  <tbody>\n",
       "    <tr>\n",
       "      <th>0</th>\n",
       "      <td>3.62160</td>\n",
       "      <td>8.6661</td>\n",
       "      <td>-2.8073</td>\n",
       "      <td>-0.44699</td>\n",
       "      <td>0</td>\n",
       "    </tr>\n",
       "    <tr>\n",
       "      <th>1</th>\n",
       "      <td>4.54590</td>\n",
       "      <td>8.1674</td>\n",
       "      <td>-2.4586</td>\n",
       "      <td>-1.46210</td>\n",
       "      <td>0</td>\n",
       "    </tr>\n",
       "    <tr>\n",
       "      <th>2</th>\n",
       "      <td>3.86600</td>\n",
       "      <td>-2.6383</td>\n",
       "      <td>1.9242</td>\n",
       "      <td>0.10645</td>\n",
       "      <td>0</td>\n",
       "    </tr>\n",
       "    <tr>\n",
       "      <th>3</th>\n",
       "      <td>3.45660</td>\n",
       "      <td>9.5228</td>\n",
       "      <td>-4.0112</td>\n",
       "      <td>-3.59440</td>\n",
       "      <td>0</td>\n",
       "    </tr>\n",
       "    <tr>\n",
       "      <th>4</th>\n",
       "      <td>0.32924</td>\n",
       "      <td>-4.4552</td>\n",
       "      <td>4.5718</td>\n",
       "      <td>-0.98880</td>\n",
       "      <td>0</td>\n",
       "    </tr>\n",
       "  </tbody>\n",
       "</table>\n",
       "</div>"
      ],
      "text/plain": [
       "         0       1       2        3  4\n",
       "0  3.62160  8.6661 -2.8073 -0.44699  0\n",
       "1  4.54590  8.1674 -2.4586 -1.46210  0\n",
       "2  3.86600 -2.6383  1.9242  0.10645  0\n",
       "3  3.45660  9.5228 -4.0112 -3.59440  0\n",
       "4  0.32924 -4.4552  4.5718 -0.98880  0"
      ]
     },
     "execution_count": 2,
     "metadata": {},
     "output_type": "execute_result"
    }
   ],
   "source": [
    "df = pd.read_csv(\"data_banknote_authentication.txt\", header=None)\n",
    "df.head()"
   ]
  },
  {
   "cell_type": "code",
   "execution_count": 3,
   "id": "860304f1-1b8c-4993-b547-20e2dcceb03b",
   "metadata": {
    "tags": []
   },
   "outputs": [],
   "source": [
    "X_features = df[[0, 1, 2, 3]].values\n",
    "y_labels = df[4].values"
   ]
  },
  {
   "cell_type": "markdown",
   "id": "a4d2ebb2-d83f-4729-85ed-9437e105b9b8",
   "metadata": {},
   "source": [
    "Number of examples and features:"
   ]
  },
  {
   "cell_type": "code",
   "execution_count": 4,
   "id": "6f342b22-0fde-436a-a121-00e9ce627512",
   "metadata": {
    "tags": []
   },
   "outputs": [
    {
     "data": {
      "text/plain": [
       "(1372, 4)"
      ]
     },
     "execution_count": 4,
     "metadata": {},
     "output_type": "execute_result"
    }
   ],
   "source": [
    "X_features.shape"
   ]
  },
  {
   "cell_type": "markdown",
   "id": "7c8e94b9-4847-4833-a7d1-afee3c18991a",
   "metadata": {},
   "source": [
    "It is usually a good idea to look at the label distribution:"
   ]
  },
  {
   "cell_type": "code",
   "execution_count": 5,
   "id": "1e8247a8-101d-4195-84d3-12b6593c0099",
   "metadata": {
    "tags": []
   },
   "outputs": [
    {
     "data": {
      "text/plain": [
       "array([762, 610])"
      ]
     },
     "execution_count": 5,
     "metadata": {},
     "output_type": "execute_result"
    }
   ],
   "source": [
    "import numpy as np\n",
    "\n",
    "np.bincount(y_labels)"
   ]
  },
  {
   "cell_type": "markdown",
   "id": "6f7e7578-c57d-4aae-99fc-77603e202185",
   "metadata": {},
   "source": [
    "## 3) Defining a DataLoader"
   ]
  },
  {
   "cell_type": "markdown",
   "id": "705b52c8-1635-40c8-a6f3-8c4d0d91952e",
   "metadata": {},
   "source": [
    "The `DataLoader` code is the same code we used in Unit 3.6:"
   ]
  },
  {
   "cell_type": "code",
   "execution_count": 6,
   "id": "fa4ba92f-f294-4572-8aa2-d2fa50788a9d",
   "metadata": {
    "tags": []
   },
   "outputs": [],
   "source": [
    "from torch.utils.data import Dataset, DataLoader\n",
    "\n",
    "\n",
    "class MyDataset(Dataset):\n",
    "    def __init__(self, X, y):\n",
    "\n",
    "        self.features = torch.tensor(X, dtype=torch.float32)\n",
    "        self.labels = torch.tensor(y, dtype=torch.float32)\n",
    "\n",
    "    def __getitem__(self, index):\n",
    "        x = self.features[index]\n",
    "        y = self.labels[index]        \n",
    "        return x, y\n",
    "\n",
    "    def __len__(self):\n",
    "        return self.labels.shape[0]"
   ]
  },
  {
   "cell_type": "markdown",
   "id": "e2096f23-539a-40e0-affa-db0ffcd0f371",
   "metadata": {},
   "source": [
    "We will be using 80% of the data for training, 20% of the data for validation. In a real-project, we would also have a separate dataset for the final test set (in this case, we do not have an explicit test set)."
   ]
  },
  {
   "cell_type": "code",
   "execution_count": 7,
   "id": "f8bbd768-c15c-40f5-8500-83fad5bb1722",
   "metadata": {
    "tags": []
   },
   "outputs": [
    {
     "data": {
      "text/plain": [
       "1097"
      ]
     },
     "execution_count": 7,
     "metadata": {},
     "output_type": "execute_result"
    }
   ],
   "source": [
    "train_size = int(X_features.shape[0]*0.80)\n",
    "train_size"
   ]
  },
  {
   "cell_type": "code",
   "execution_count": 8,
   "id": "0b09d3d5-f4f7-47df-8160-8d883c0c5e19",
   "metadata": {
    "tags": []
   },
   "outputs": [
    {
     "data": {
      "text/plain": [
       "275"
      ]
     },
     "execution_count": 8,
     "metadata": {},
     "output_type": "execute_result"
    }
   ],
   "source": [
    "val_size = X_features.shape[0] - train_size\n",
    "val_size"
   ]
  },
  {
   "cell_type": "markdown",
   "id": "3e21d88e-1408-4457-a7fd-3306a9fac5a6",
   "metadata": {},
   "source": [
    "Using `torch.utils.data.random_split`, we generate the training and validation sets along with the respective data loaders:"
   ]
  },
  {
   "cell_type": "code",
   "execution_count": 9,
   "id": "22a0e19a-de40-4309-b197-368a781a5633",
   "metadata": {
    "tags": []
   },
   "outputs": [],
   "source": [
    "import torch\n",
    "\n",
    "dataset = MyDataset(X_features, y_labels)\n",
    "\n",
    "torch.manual_seed(1)\n",
    "train_set, val_set = torch.utils.data.random_split(dataset, [train_size, val_size])\n",
    "\n",
    "train_loader = DataLoader(\n",
    "    dataset=train_set,\n",
    "    batch_size=10,\n",
    "    shuffle=True,\n",
    ")\n",
    "\n",
    "val_loader = DataLoader(\n",
    "    dataset=val_set,\n",
    "    batch_size=10,\n",
    "    shuffle=False,\n",
    ")"
   ]
  },
  {
   "cell_type": "markdown",
   "id": "e3a0b2f5-66f5-45e5-9b0a-f4960fc40388",
   "metadata": {},
   "source": [
    "## 4) Implementing the model"
   ]
  },
  {
   "cell_type": "markdown",
   "id": "dee409f0-02e0-4591-abf1-5e2c6c41a187",
   "metadata": {},
   "source": [
    "Here, we are resusing the same model code we used in Unit 3.6:"
   ]
  },
  {
   "cell_type": "code",
   "execution_count": 10,
   "id": "3da86d9a-7cd5-467c-bf65-3388fe272bd5",
   "metadata": {
    "tags": []
   },
   "outputs": [],
   "source": [
    "import torch\n",
    "\n",
    "class LogisticRegression(torch.nn.Module):\n",
    "    \n",
    "    def __init__(self, num_features):\n",
    "        super().__init__()\n",
    "        self.linear = torch.nn.Linear(num_features, 1)\n",
    "    \n",
    "    def forward(self, x):\n",
    "        logits = self.linear(x)\n",
    "        probas = torch.sigmoid(logits)\n",
    "        return probas"
   ]
  },
  {
   "cell_type": "markdown",
   "id": "c8340676-a3da-49cf-aeae-c0a3329734c5",
   "metadata": {},
   "source": [
    "## 5) The training loop"
   ]
  },
  {
   "cell_type": "markdown",
   "id": "1660ca15-18d5-4a55-94f1-e9f543bd8748",
   "metadata": {},
   "source": [
    "In this section, we are using the training loop from Unit 3.6. It's the exact same code except for some small modification: We added the line `if not batch_idx % 20` to only print the loss for every 20th batch (to reduce the number of output lines).\n",
    "\n",
    "<font color='red'>YOUR TASK is to find a good learning rate and epoch number so that you achieve a training and validation performance of at least 98%.</font>"
   ]
  },
  {
   "cell_type": "code",
   "execution_count": 27,
   "id": "79c712f6-4e2a-43e9-8563-215f88beb4a8",
   "metadata": {
    "tags": []
   },
   "outputs": [
    {
     "name": "stdout",
     "output_type": "stream",
     "text": [
      "Epoch: 001/025 | Batch 000/110 | Loss: 1.30\n",
      "Epoch: 001/025 | Batch 020/110 | Loss: 0.85\n",
      "Epoch: 001/025 | Batch 040/110 | Loss: 0.66\n",
      "Epoch: 001/025 | Batch 060/110 | Loss: 0.37\n",
      "Epoch: 001/025 | Batch 080/110 | Loss: 0.28\n",
      "Epoch: 001/025 | Batch 100/110 | Loss: 0.29\n",
      "Epoch: 002/025 | Batch 000/110 | Loss: 0.39\n",
      "Epoch: 002/025 | Batch 020/110 | Loss: 0.22\n",
      "Epoch: 002/025 | Batch 040/110 | Loss: 0.35\n",
      "Epoch: 002/025 | Batch 060/110 | Loss: 0.19\n",
      "Epoch: 002/025 | Batch 080/110 | Loss: 0.19\n",
      "Epoch: 002/025 | Batch 100/110 | Loss: 0.18\n",
      "Epoch: 003/025 | Batch 000/110 | Loss: 0.13\n",
      "Epoch: 003/025 | Batch 020/110 | Loss: 0.28\n",
      "Epoch: 003/025 | Batch 040/110 | Loss: 0.21\n",
      "Epoch: 003/025 | Batch 060/110 | Loss: 0.37\n",
      "Epoch: 003/025 | Batch 080/110 | Loss: 0.18\n",
      "Epoch: 003/025 | Batch 100/110 | Loss: 0.14\n",
      "Epoch: 004/025 | Batch 000/110 | Loss: 0.15\n",
      "Epoch: 004/025 | Batch 020/110 | Loss: 0.07\n",
      "Epoch: 004/025 | Batch 040/110 | Loss: 0.17\n",
      "Epoch: 004/025 | Batch 060/110 | Loss: 0.16\n",
      "Epoch: 004/025 | Batch 080/110 | Loss: 0.05\n",
      "Epoch: 004/025 | Batch 100/110 | Loss: 0.12\n",
      "Epoch: 005/025 | Batch 000/110 | Loss: 0.33\n",
      "Epoch: 005/025 | Batch 020/110 | Loss: 0.14\n",
      "Epoch: 005/025 | Batch 040/110 | Loss: 0.12\n",
      "Epoch: 005/025 | Batch 060/110 | Loss: 0.22\n",
      "Epoch: 005/025 | Batch 080/110 | Loss: 0.20\n",
      "Epoch: 005/025 | Batch 100/110 | Loss: 0.23\n",
      "Epoch: 006/025 | Batch 000/110 | Loss: 0.18\n",
      "Epoch: 006/025 | Batch 020/110 | Loss: 0.17\n",
      "Epoch: 006/025 | Batch 040/110 | Loss: 0.28\n",
      "Epoch: 006/025 | Batch 060/110 | Loss: 0.17\n",
      "Epoch: 006/025 | Batch 080/110 | Loss: 0.09\n",
      "Epoch: 006/025 | Batch 100/110 | Loss: 0.16\n",
      "Epoch: 007/025 | Batch 000/110 | Loss: 0.08\n",
      "Epoch: 007/025 | Batch 020/110 | Loss: 0.02\n",
      "Epoch: 007/025 | Batch 040/110 | Loss: 0.13\n",
      "Epoch: 007/025 | Batch 060/110 | Loss: 0.04\n",
      "Epoch: 007/025 | Batch 080/110 | Loss: 0.19\n",
      "Epoch: 007/025 | Batch 100/110 | Loss: 0.10\n",
      "Epoch: 008/025 | Batch 000/110 | Loss: 0.10\n",
      "Epoch: 008/025 | Batch 020/110 | Loss: 0.09\n",
      "Epoch: 008/025 | Batch 040/110 | Loss: 0.06\n",
      "Epoch: 008/025 | Batch 060/110 | Loss: 0.20\n",
      "Epoch: 008/025 | Batch 080/110 | Loss: 0.07\n",
      "Epoch: 008/025 | Batch 100/110 | Loss: 0.24\n",
      "Epoch: 009/025 | Batch 000/110 | Loss: 0.10\n",
      "Epoch: 009/025 | Batch 020/110 | Loss: 0.10\n",
      "Epoch: 009/025 | Batch 040/110 | Loss: 0.05\n",
      "Epoch: 009/025 | Batch 060/110 | Loss: 0.12\n",
      "Epoch: 009/025 | Batch 080/110 | Loss: 0.08\n",
      "Epoch: 009/025 | Batch 100/110 | Loss: 0.06\n",
      "Epoch: 010/025 | Batch 000/110 | Loss: 0.14\n",
      "Epoch: 010/025 | Batch 020/110 | Loss: 0.07\n",
      "Epoch: 010/025 | Batch 040/110 | Loss: 0.09\n",
      "Epoch: 010/025 | Batch 060/110 | Loss: 0.12\n",
      "Epoch: 010/025 | Batch 080/110 | Loss: 0.10\n",
      "Epoch: 010/025 | Batch 100/110 | Loss: 0.01\n",
      "Epoch: 011/025 | Batch 000/110 | Loss: 0.05\n",
      "Epoch: 011/025 | Batch 020/110 | Loss: 0.03\n",
      "Epoch: 011/025 | Batch 040/110 | Loss: 0.27\n",
      "Epoch: 011/025 | Batch 060/110 | Loss: 0.12\n",
      "Epoch: 011/025 | Batch 080/110 | Loss: 0.22\n",
      "Epoch: 011/025 | Batch 100/110 | Loss: 0.03\n",
      "Epoch: 012/025 | Batch 000/110 | Loss: 0.09\n",
      "Epoch: 012/025 | Batch 020/110 | Loss: 0.02\n",
      "Epoch: 012/025 | Batch 040/110 | Loss: 0.10\n",
      "Epoch: 012/025 | Batch 060/110 | Loss: 0.08\n",
      "Epoch: 012/025 | Batch 080/110 | Loss: 0.09\n",
      "Epoch: 012/025 | Batch 100/110 | Loss: 0.04\n",
      "Epoch: 013/025 | Batch 000/110 | Loss: 0.05\n",
      "Epoch: 013/025 | Batch 020/110 | Loss: 0.06\n",
      "Epoch: 013/025 | Batch 040/110 | Loss: 0.09\n",
      "Epoch: 013/025 | Batch 060/110 | Loss: 0.05\n",
      "Epoch: 013/025 | Batch 080/110 | Loss: 0.14\n",
      "Epoch: 013/025 | Batch 100/110 | Loss: 0.24\n",
      "Epoch: 014/025 | Batch 000/110 | Loss: 0.15\n",
      "Epoch: 014/025 | Batch 020/110 | Loss: 0.06\n",
      "Epoch: 014/025 | Batch 040/110 | Loss: 0.03\n",
      "Epoch: 014/025 | Batch 060/110 | Loss: 0.15\n",
      "Epoch: 014/025 | Batch 080/110 | Loss: 0.03\n",
      "Epoch: 014/025 | Batch 100/110 | Loss: 0.15\n",
      "Epoch: 015/025 | Batch 000/110 | Loss: 0.18\n",
      "Epoch: 015/025 | Batch 020/110 | Loss: 0.03\n",
      "Epoch: 015/025 | Batch 040/110 | Loss: 0.04\n",
      "Epoch: 015/025 | Batch 060/110 | Loss: 0.02\n",
      "Epoch: 015/025 | Batch 080/110 | Loss: 0.05\n",
      "Epoch: 015/025 | Batch 100/110 | Loss: 0.20\n",
      "Epoch: 016/025 | Batch 000/110 | Loss: 0.02\n",
      "Epoch: 016/025 | Batch 020/110 | Loss: 0.05\n",
      "Epoch: 016/025 | Batch 040/110 | Loss: 0.01\n",
      "Epoch: 016/025 | Batch 060/110 | Loss: 0.07\n",
      "Epoch: 016/025 | Batch 080/110 | Loss: 0.02\n",
      "Epoch: 016/025 | Batch 100/110 | Loss: 0.05\n",
      "Epoch: 017/025 | Batch 000/110 | Loss: 0.02\n",
      "Epoch: 017/025 | Batch 020/110 | Loss: 0.17\n",
      "Epoch: 017/025 | Batch 040/110 | Loss: 0.01\n",
      "Epoch: 017/025 | Batch 060/110 | Loss: 0.14\n",
      "Epoch: 017/025 | Batch 080/110 | Loss: 0.09\n",
      "Epoch: 017/025 | Batch 100/110 | Loss: 0.11\n",
      "Epoch: 018/025 | Batch 000/110 | Loss: 0.11\n",
      "Epoch: 018/025 | Batch 020/110 | Loss: 0.03\n",
      "Epoch: 018/025 | Batch 040/110 | Loss: 0.09\n",
      "Epoch: 018/025 | Batch 060/110 | Loss: 0.10\n",
      "Epoch: 018/025 | Batch 080/110 | Loss: 0.10\n",
      "Epoch: 018/025 | Batch 100/110 | Loss: 0.01\n",
      "Epoch: 019/025 | Batch 000/110 | Loss: 0.02\n",
      "Epoch: 019/025 | Batch 020/110 | Loss: 0.09\n",
      "Epoch: 019/025 | Batch 040/110 | Loss: 0.03\n",
      "Epoch: 019/025 | Batch 060/110 | Loss: 0.02\n",
      "Epoch: 019/025 | Batch 080/110 | Loss: 0.02\n",
      "Epoch: 019/025 | Batch 100/110 | Loss: 0.08\n",
      "Epoch: 020/025 | Batch 000/110 | Loss: 0.13\n",
      "Epoch: 020/025 | Batch 020/110 | Loss: 0.11\n",
      "Epoch: 020/025 | Batch 040/110 | Loss: 0.08\n",
      "Epoch: 020/025 | Batch 060/110 | Loss: 0.05\n",
      "Epoch: 020/025 | Batch 080/110 | Loss: 0.05\n",
      "Epoch: 020/025 | Batch 100/110 | Loss: 0.03\n",
      "Epoch: 021/025 | Batch 000/110 | Loss: 0.13\n",
      "Epoch: 021/025 | Batch 020/110 | Loss: 0.05\n",
      "Epoch: 021/025 | Batch 040/110 | Loss: 0.16\n",
      "Epoch: 021/025 | Batch 060/110 | Loss: 0.06\n",
      "Epoch: 021/025 | Batch 080/110 | Loss: 0.02\n",
      "Epoch: 021/025 | Batch 100/110 | Loss: 0.09\n",
      "Epoch: 022/025 | Batch 000/110 | Loss: 0.06\n",
      "Epoch: 022/025 | Batch 020/110 | Loss: 0.10\n",
      "Epoch: 022/025 | Batch 040/110 | Loss: 0.01\n",
      "Epoch: 022/025 | Batch 060/110 | Loss: 0.08\n",
      "Epoch: 022/025 | Batch 080/110 | Loss: 0.17\n",
      "Epoch: 022/025 | Batch 100/110 | Loss: 0.02\n",
      "Epoch: 023/025 | Batch 000/110 | Loss: 0.03\n",
      "Epoch: 023/025 | Batch 020/110 | Loss: 0.17\n",
      "Epoch: 023/025 | Batch 040/110 | Loss: 0.05\n",
      "Epoch: 023/025 | Batch 060/110 | Loss: 0.04\n",
      "Epoch: 023/025 | Batch 080/110 | Loss: 0.04\n",
      "Epoch: 023/025 | Batch 100/110 | Loss: 0.08\n",
      "Epoch: 024/025 | Batch 000/110 | Loss: 0.10\n",
      "Epoch: 024/025 | Batch 020/110 | Loss: 0.22\n",
      "Epoch: 024/025 | Batch 040/110 | Loss: 0.02\n",
      "Epoch: 024/025 | Batch 060/110 | Loss: 0.02\n",
      "Epoch: 024/025 | Batch 080/110 | Loss: 0.13\n",
      "Epoch: 024/025 | Batch 100/110 | Loss: 0.05\n",
      "Epoch: 025/025 | Batch 000/110 | Loss: 0.03\n",
      "Epoch: 025/025 | Batch 020/110 | Loss: 0.02\n",
      "Epoch: 025/025 | Batch 040/110 | Loss: 0.10\n",
      "Epoch: 025/025 | Batch 060/110 | Loss: 0.06\n",
      "Epoch: 025/025 | Batch 080/110 | Loss: 0.01\n",
      "Epoch: 025/025 | Batch 100/110 | Loss: 0.03\n"
     ]
    }
   ],
   "source": [
    "import torch.nn.functional as F\n",
    "\n",
    "\n",
    "torch.manual_seed(1)\n",
    "model = LogisticRegression(num_features=4)\n",
    "optimizer = torch.optim.SGD(model.parameters(), lr=0.01) ## FILL IN VALUE\n",
    "\n",
    "num_epochs = 25 ## FILL IN VALUE\n",
    "\n",
    "for epoch in range(num_epochs):\n",
    "    \n",
    "    model = model.train()\n",
    "    for batch_idx, (features, class_labels) in enumerate(train_loader):\n",
    "\n",
    "        probas = model(features)\n",
    "        \n",
    "        loss = F.binary_cross_entropy(probas, class_labels.view(probas.shape))\n",
    "        \n",
    "        optimizer.zero_grad()\n",
    "        loss.backward()\n",
    "        optimizer.step()\n",
    "        \n",
    "        ### LOGGING\n",
    "        if not batch_idx % 20: # log every 20th batch\n",
    "            print(f'Epoch: {epoch+1:03d}/{num_epochs:03d}'\n",
    "                   f' | Batch {batch_idx:03d}/{len(train_loader):03d}'\n",
    "                   f' | Loss: {loss:.2f}')"
   ]
  },
  {
   "cell_type": "markdown",
   "id": "41396cca-8920-4edd-9075-588c03d81f01",
   "metadata": {},
   "source": [
    "\n",
    "## 6) Evaluating the results"
   ]
  },
  {
   "cell_type": "markdown",
   "id": "f458e2cc-011c-48e5-b66a-5ef568114242",
   "metadata": {},
   "source": [
    "Again, reusing the code from Unit 3.6, we will calculate the training and validation set accuracy."
   ]
  },
  {
   "cell_type": "code",
   "execution_count": 28,
   "id": "4b6473aa-98ac-4ffe-84b5-cb5a2d511018",
   "metadata": {
    "tags": []
   },
   "outputs": [],
   "source": [
    "def compute_accuracy(model, dataloader):\n",
    "\n",
    "    model = model.eval()\n",
    "    \n",
    "    correct = 0.0\n",
    "    total_examples = 0\n",
    "    \n",
    "    for idx, (features, class_labels) in enumerate(dataloader):\n",
    "        \n",
    "        with torch.no_grad():\n",
    "            probas = model(features)\n",
    "        \n",
    "        pred = torch.where(probas > 0.5, 1, 0)\n",
    "        lab = class_labels.view(pred.shape).to(pred.dtype)\n",
    "\n",
    "        compare = lab == pred\n",
    "        correct += torch.sum(compare)\n",
    "        total_examples += len(compare)\n",
    "\n",
    "    return correct / total_examples"
   ]
  },
  {
   "cell_type": "code",
   "execution_count": 29,
   "id": "70de800b-4138-49ac-b4cc-e89605b78a3d",
   "metadata": {
    "tags": []
   },
   "outputs": [
    {
     "name": "stdout",
     "output_type": "stream",
     "text": [
      "Accuracy: 98.27%\n"
     ]
    }
   ],
   "source": [
    "train_acc = compute_accuracy(model, train_loader)\n",
    "print(f\"Accuracy: {train_acc*100:.2f}%\")"
   ]
  },
  {
   "cell_type": "markdown",
   "id": "c01e464b-cc38-41b7-9d7f-6baafba73f56",
   "metadata": {},
   "source": [
    "<font color='red'>Notice that the code validation accuracy is not shown? It's part of the exercise to implement it :)</font>"
   ]
  },
  {
   "cell_type": "code",
   "execution_count": null,
   "id": "7edead56-db64-4667-8007-937ab1974ac0",
   "metadata": {},
   "outputs": [],
   "source": [
    "## YOUR CODE"
   ]
  },
  {
   "cell_type": "code",
   "execution_count": null,
   "id": "5b5a130b-a752-4ec4-9d3b-58fd20d0bc6e",
   "metadata": {},
   "outputs": [],
   "source": []
  }
 ],
 "metadata": {
  "kernelspec": {
   "display_name": "Python 3 (ipykernel)",
   "language": "python",
   "name": "python3"
  },
  "language_info": {
   "codemirror_mode": {
    "name": "ipython",
    "version": 3
   },
   "file_extension": ".py",
   "mimetype": "text/x-python",
   "name": "python",
   "nbconvert_exporter": "python",
   "pygments_lexer": "ipython3",
   "version": "3.10.6"
  }
 },
 "nbformat": 4,
 "nbformat_minor": 5
}
